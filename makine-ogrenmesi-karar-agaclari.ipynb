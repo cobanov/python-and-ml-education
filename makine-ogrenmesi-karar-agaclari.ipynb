{
 "cells": [
  {
   "cell_type": "markdown",
   "metadata": {},
   "source": [
    "# Makine Öğrenmesi Metodları - Karar Ağaçları"
   ]
  },
  {
   "cell_type": "markdown",
   "metadata": {},
   "source": [
    "## 9.4 Karar Ağaçları Nedir?\n",
    "\n",
    "Karar ağacı, denetlenen makine öğrenimi algoritmalarından biridir. Bu algoritma regresyon ve sınıflandırma problemleri için kullanılabilir - ancak çoğunlukla sınıflandırma problemleri için kullanılır. Adından da anlaşılacağı gibi, ağaç benzeri bir karar modeli kullanır.\n",
    "\n",
    "![](assets/karar-agaclari.jpg)"
   ]
  },
  {
   "cell_type": "markdown",
   "metadata": {},
   "source": [
    "### Terminoloji\n",
    "** Kök Düğüm: ** Bu öznitelik, verileri iki veya daha fazla kümeye bölmek için kullanılır. Bu düğümdeki özellik özniteliği, Öznitelik Seçim Tekniklerine göre seçilir.\n",
    "\n",
    "Dal veya Alt Ağaç: Tüm karar ağacının bir parçası dal veya alt ağaç olarak adlandırılır.\n",
    "\n",
    "Bölme: Bir düğümü if-else koşullarına göre iki veya daha fazla alt düğüme bölme.\n",
    "\n",
    "Karar Düğümü: Alt düğümleri diğer alt düğümlere ayırdıktan sonra karar düğümü olarak adlandırılır.\n",
    "\n",
    "Yaprak veya Terminal Düğüm: Bu, daha fazla alt düğümlere ayrılamayacağı karar ağacının sonudur.\n",
    "\n",
    "Budama: Ağaçtan bir alt düğümün kaldırılmasına budama denir."
   ]
  },
  {
   "cell_type": "markdown",
   "metadata": {},
   "source": [
    "### Karar Ağaçlarının Avantajları\n",
    "\n",
    "- Anlaşılması, yorumlanması, görselleştirilmesi basit.\n",
    "- Karar ağacı algoritması uygulaması, verileri ölçeklendirmeden de yapılabilir.\n",
    "- Karar ağaçları, dolaylı olarak değişken tarama veya özellik seçimi gerçekleştirir.\n",
    "- Parametreler arasındaki doğrusal olmayan ilişkiler, ağaç performansını etkilemez."
   ]
  },
  {
   "cell_type": "markdown",
   "metadata": {},
   "source": [
    "### Karar Ağaçlarının Dezavantajları\n",
    "- Karar ağacı öğrenenler, verileri iyi genelleştirmeyen aşırı karmaşık ağaçlar oluşturabilirler. Buna aşırı uyum denir.\n",
    "\n",
    "- Karar ağaçları kararsız olabilir çünkü verilerdeki küçük değişiklikler tamamen farklı bir ağacın oluşturulmasına neden olabilir. Bu, torbalama ve güçlendirme gibi yöntemlerle azaltılması gereken varyans olarak adlandırılır.\n",
    "\n",
    "- Açgözlü algoritmalar, küresel olarak en uygun karar ağacını döndürmeyi garanti edemez. Bu, özelliklerin ve örneklerin değiştirilerek rastgele örneklendiği birden fazla ağaç eğitilerek azaltılabilir. (Rastgele Ormanlar)"
   ]
  },
  {
   "cell_type": "markdown",
   "metadata": {},
   "source": [
    "## Code"
   ]
  },
  {
   "cell_type": "code",
   "execution_count": null,
   "metadata": {},
   "outputs": [],
   "source": []
  }
 ],
 "metadata": {
  "kernelspec": {
   "display_name": "Python 3",
   "language": "python",
   "name": "python3"
  },
  "language_info": {
   "codemirror_mode": {
    "name": "ipython",
    "version": 3
   },
   "file_extension": ".py",
   "mimetype": "text/x-python",
   "name": "python",
   "nbconvert_exporter": "python",
   "pygments_lexer": "ipython3",
   "version": "3.9.1"
  }
 },
 "nbformat": 4,
 "nbformat_minor": 4
}
