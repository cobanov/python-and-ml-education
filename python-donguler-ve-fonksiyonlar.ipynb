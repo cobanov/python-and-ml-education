{
 "cells": [
  {
   "cell_type": "markdown",
   "metadata": {},
   "source": [
    "# 3. Döngüler\n",
    "\n",
    "Döngüler, bir kod bloğunun birkaç kez çalıştırılmasına izin verir."
   ]
  },
  {
   "cell_type": "markdown",
   "metadata": {},
   "source": [
    "## 3.1 For Döngüsü (For Loop)\n",
    "\n",
    "Python'da, temel döngü biçimi, yinelenebilir bir döngü üzerinde döngü yapabilen bir for döngüsüdür."
   ]
  },
  {
   "cell_type": "code",
   "execution_count": 2,
   "metadata": {},
   "outputs": [
    {
     "name": "stdout",
     "output_type": "stream",
     "text": [
      "P\n",
      "y\n",
      "t\n",
      "h\n",
      "o\n",
      "n\n"
     ]
    }
   ],
   "source": [
    "for item in 'Python': # Stringler üzerinde gezilebilir\n",
    "    print(item) # Verilen stringdeki tüm harflerin üzerin geçer"
   ]
  },
  {
   "cell_type": "code",
   "execution_count": 5,
   "metadata": {},
   "outputs": [
    {
     "name": "stdout",
     "output_type": "stream",
     "text": [
      "1\n",
      "2\n",
      "3\n",
      "4\n",
      "5\n"
     ]
    }
   ],
   "source": [
    "for item in [1,2,3,4,5]: # Listeler üzerinde gezilebilir\n",
    "    print(item) # Verilen listedeki tüm harflerin üzerin geçer"
   ]
  },
  {
   "cell_type": "markdown",
   "metadata": {},
   "source": [
    "### Iterable"
   ]
  },
  {
   "cell_type": "markdown",
   "metadata": {},
   "source": [
    "Yinelenebilir, yinelenebilen bir veri koleksiyonudur. Koleksiyondaki parçaların tek tek işlenebileceği anlamına geliyor. Listeler, dizeler, tuple'lar, kümeler ve sözlüklerin hepsi yinelenebilirdir. Yinelenebilir üzerinde gerçekleştirilen eylem yinelemedir ve işlenmekte olan geçerli öğeye yineleyici adı verilir."
   ]
  },
  {
   "cell_type": "code",
   "execution_count": 6,
   "metadata": {},
   "outputs": [],
   "source": [
    "player = {\n",
    "  'firstname': 'Virat',\n",
    "  'lastname': 'Kohli',\n",
    "  'role': 'captain'\n",
    "}"
   ]
  },
  {
   "cell_type": "code",
   "execution_count": 7,
   "metadata": {},
   "outputs": [
    {
     "name": "stdout",
     "output_type": "stream",
     "text": [
      "firstname\n",
      "lastname\n",
      "role\n"
     ]
    }
   ],
   "source": [
    "for item in player: # iterates over the keys of player\n",
    "    print(item) # prints all keys"
   ]
  },
  {
   "cell_type": "code",
   "execution_count": 8,
   "metadata": {},
   "outputs": [
    {
     "name": "stdout",
     "output_type": "stream",
     "text": [
      "firstname\n",
      "lastname\n",
      "role\n"
     ]
    }
   ],
   "source": [
    "for item in player.keys(): \n",
    "    print(item) # prints all keys"
   ]
  },
  {
   "cell_type": "code",
   "execution_count": 9,
   "metadata": {},
   "outputs": [
    {
     "name": "stdout",
     "output_type": "stream",
     "text": [
      "Virat\n",
      "Kohli\n",
      "captain\n"
     ]
    }
   ],
   "source": [
    "for item in player.values():\n",
    "    print(item) # prints all values"
   ]
  },
  {
   "cell_type": "code",
   "execution_count": 10,
   "metadata": {},
   "outputs": [
    {
     "name": "stdout",
     "output_type": "stream",
     "text": [
      "('firstname', 'Virat')\n",
      "('lastname', 'Kohli')\n",
      "('role', 'captain')\n"
     ]
    }
   ],
   "source": [
    "for item in player.items():\n",
    "    print(item) # prints key and value as tuple"
   ]
  },
  {
   "cell_type": "code",
   "execution_count": 11,
   "metadata": {},
   "outputs": [
    {
     "name": "stdout",
     "output_type": "stream",
     "text": [
      "firstname Virat\n",
      "lastname Kohli\n",
      "role captain\n"
     ]
    }
   ],
   "source": [
    "for key, value in player.items():\n",
    "    print(key, value) # prints key and value using unpacking"
   ]
  },
  {
   "cell_type": "markdown",
   "metadata": {},
   "source": [
    "### range\n",
    "\n",
    "range, Python'da bir dizi sayı oluşturmak için kullanılan yinelenebilir bir nesnedir. Genellikle döngülerde ve bir liste oluşturmak için kullanılır."
   ]
  },
  {
   "cell_type": "code",
   "execution_count": 13,
   "metadata": {
    "scrolled": true
   },
   "outputs": [
    {
     "name": "stdout",
     "output_type": "stream",
     "text": [
      "python\n",
      "python\n",
      "python\n",
      "python\n",
      "python\n",
      "python\n",
      "python\n",
      "python\n",
      "python\n",
      "python\n"
     ]
    }
   ],
   "source": [
    "for item in range(10):\n",
    "    print('python') # prints python 10 times"
   ]
  },
  {
   "cell_type": "code",
   "execution_count": 14,
   "metadata": {},
   "outputs": [
    {
     "name": "stdout",
     "output_type": "stream",
     "text": [
      "hello\n",
      "hello\n",
      "hello\n",
      "hello\n",
      "hello\n",
      "hello\n",
      "hello\n",
      "hello\n",
      "hello\n",
      "hello\n"
     ]
    }
   ],
   "source": [
    "for item in range(0,10,1):\n",
    "    print('hello') # prints hello 10 times"
   ]
  },
  {
   "cell_type": "code",
   "execution_count": 15,
   "metadata": {},
   "outputs": [
    {
     "name": "stdout",
     "output_type": "stream",
     "text": [
      "hii\n",
      "hii\n",
      "hii\n",
      "hii\n",
      "hii\n"
     ]
    }
   ],
   "source": [
    "for item in range(0, 10, 2):\n",
    "    print('hii') # prints hii 5 times "
   ]
  },
  {
   "cell_type": "code",
   "execution_count": 16,
   "metadata": {},
   "outputs": [
    {
     "name": "stdout",
     "output_type": "stream",
     "text": [
      "10\n",
      "9\n",
      "8\n",
      "7\n",
      "6\n",
      "5\n",
      "4\n",
      "3\n",
      "2\n",
      "1\n"
     ]
    }
   ],
   "source": [
    "for item in range(10, 0, -1):\n",
    "    print(item) # prints in reverse order"
   ]
  },
  {
   "cell_type": "code",
   "execution_count": 17,
   "metadata": {},
   "outputs": [
    {
     "name": "stdout",
     "output_type": "stream",
     "text": [
      "[0, 1, 2, 3, 4, 5, 6, 7, 8, 9]\n"
     ]
    }
   ],
   "source": [
    "print(list(range(10))) # generates a list of 10 items"
   ]
  },
  {
   "cell_type": "markdown",
   "metadata": {},
   "source": [
    "### enumerate\n",
    "\n",
    "enumerate, döngü sırasında yineleyicinin dizinine ihtiyacımız olduğunda kullanışlıdır."
   ]
  },
  {
   "cell_type": "code",
   "execution_count": 18,
   "metadata": {
    "scrolled": true
   },
   "outputs": [
    {
     "name": "stdout",
     "output_type": "stream",
     "text": [
      "key is 0 and value is 0\n",
      "key is 1 and value is 1\n",
      "key is 2 and value is 2\n",
      "key is 3 and value is 3\n",
      "key is 4 and value is 4\n",
      "key is 5 and value is 5\n",
      "key is 6 and value is 6\n",
      "key is 7 and value is 7\n",
      "key is 8 and value is 8\n",
      "key is 9 and value is 9\n"
     ]
    }
   ],
   "source": [
    "for key, value in enumerate(range(10)): # using unpacking techique \n",
    "    print(f'key is {key} and value is {value}') # prints key and value at the same time"
   ]
  },
  {
   "cell_type": "markdown",
   "metadata": {},
   "source": [
    "## 3.2 While Döngüsü (While Loop)\n",
    "\n",
    "Döngüler, belirli bir koşula bağlı olarak bir kod bloğunu birkaç kez çalıştırmanın başka bir yoludur. Yanlışlıkla sistemlerimizi çökertene kadar çalışmaya devam edecek sonsuz bir döngü oluşturmamak için while döngüleriyle uğraşırken biraz dikkatli olmalıyız!"
   ]
  },
  {
   "cell_type": "markdown",
   "metadata": {},
   "source": [
    "```python\n",
    "hungry = True\n",
    "\n",
    "while(hungry): # Bu her zaman doğrudur, bu nedenle sistem çökene kadar yazdırmaya devam eder!\n",
    "    print('Bana yiyecek bir şeyler ver!')\n",
    "```"
   ]
  },
  {
   "cell_type": "markdown",
   "metadata": {},
   "source": [
    "Ancak döngüler kullanışlıdır. Yazması basit ve okuması kolaydır. Sadece döngüyü ne zaman durduracağını söylememiz gerekiyor. Döngü yürütmeyi durduran ve döngüden çıkan bir `break` deyimi kullanılarak yapılabilir. Başka bir yol da, yürütmeyi durdurmak için koşulu `False`'a çevirmektir."
   ]
  },
  {
   "cell_type": "code",
   "execution_count": 19,
   "metadata": {},
   "outputs": [
    {
     "name": "stdout",
     "output_type": "stream",
     "text": [
      "Bana yiyecek bir şeyler ver!\n"
     ]
    }
   ],
   "source": [
    "hungry = True\n",
    "\n",
    "while(hungry):\n",
    "    print('Bana yiyecek bir şeyler ver!')\n",
    "    break # bir kere yazdır ve döngüyü durdur"
   ]
  },
  {
   "cell_type": "code",
   "execution_count": 20,
   "metadata": {
    "scrolled": true
   },
   "outputs": [
    {
     "name": "stdout",
     "output_type": "stream",
     "text": [
      "Bana yiyecek bir şeyler ver!\n",
      "Bana yiyecek bir şeyler ver!\n",
      "Bana yiyecek bir şeyler ver!\n",
      "Bana yiyecek bir şeyler ver!\n",
      "Bana yiyecek bir şeyler ver!\n",
      "Bana yiyecek bir şeyler ver!\n",
      "Bana yiyecek bir şeyler ver!\n",
      "Bana yiyecek bir şeyler ver!\n",
      "Bana yiyecek bir şeyler ver!\n",
      "Bana yiyecek bir şeyler ver!\n"
     ]
    }
   ],
   "source": [
    "hungry = True\n",
    "satisfaction = 0\n",
    "\n",
    "while(satisfaction < 10):\n",
    "    satisfaction += 1\n",
    "    print('Bana yiyecek bir şeyler ver!') # on kere yazar"
   ]
  },
  {
   "cell_type": "markdown",
   "metadata": {},
   "source": [
    "## 3.3 Kısa bir egsersiz\n",
    "\n",
    "Yinelenen e-postaları bir e-posta listesinde bulalım ve yazdıralım."
   ]
  },
  {
   "cell_type": "code",
   "execution_count": 21,
   "metadata": {
    "scrolled": true
   },
   "outputs": [
    {
     "name": "stdout",
     "output_type": "stream",
     "text": [
      "['roger@hey.com']\n"
     ]
    }
   ],
   "source": [
    "email_list = ['roger@hey.com','michael@hey.com','roger@hey.com','prince@gmail.com']\n",
    "duplicate_emails = []\n",
    "\n",
    "for email in email_list:\n",
    "    if email_list.count(email) > 1 and email not in duplicate_emails:\n",
    "        duplicate_emails.append(email)\n",
    "        \n",
    "print(duplicate_emails)"
   ]
  },
  {
   "cell_type": "markdown",
   "metadata": {},
   "source": [
    "# 4. Fonksiyonlar\n",
    "\n",
    "Fonksiyonlar çok önemli bir kavramdır ve tüm programlama dillerinde mevcutturlar. Fonksiyonlar, bir eylemi (kod bloğu) tanımlamamıza  izin verir. Şimdiye kadar, Python tarafından sağlanan print, input, len vb. Gibi bazı yerleşik işlevleri kullanıyorduk. Şimdi bir tane oluşturma zamanı."
   ]
  },
  {
   "cell_type": "code",
   "execution_count": 22,
   "metadata": {
    "scrolled": true
   },
   "outputs": [
    {
     "name": "stdout",
     "output_type": "stream",
     "text": [
      "fire 🔥 🔥 🔥\n",
      "fire 🔥 🔥 🔥\n"
     ]
    }
   ],
   "source": [
    "def blow_fire(): # Burası fonksiyonu tanımladığımız yer\n",
    "    print('fire 🔥 🔥 🔥')\n",
    "\n",
    "blow_fire() # Burada fonksiyonu çağırmak için çağırıyoruz\n",
    "blow_fire() # İstediğimiz kadar çağırabiliriz\n"
   ]
  },
  {
   "cell_type": "markdown",
   "metadata": {},
   "source": [
    "## 4.1 Argümanlar ve Parametreler (Arguments and Parameters)\n",
    "\n",
    "Yukarıdaki işlev biraz havalıydı, ancak bazı sınırlamaları da var. Yalnızca aynı eylemi gerçekleştirebilir. Daha genişletilebilir hale getirelim ve ona bazı veriler aktararak istediği gibi eylemler gerçekleştirmesini sağlayalım"
   ]
  },
  {
   "cell_type": "code",
   "execution_count": 33,
   "metadata": {},
   "outputs": [
    {
     "name": "stdout",
     "output_type": "stream",
     "text": [
      "fire 🔥 🔥 🔥\n",
      "water 🌊 🌊 🌊\n"
     ]
    }
   ],
   "source": [
    "def blower(name, emoji): # parameterler\n",
    "    print(f'{name} {emoji} {emoji} {emoji}')\n",
    "\n",
    "blower('fire', '🔥') # argümanlar\n",
    "blower('water', '🌊')"
   ]
  },
  {
   "cell_type": "markdown",
   "metadata": {},
   "source": [
    "## 4.2 return\n",
    "\n",
    "return, Python'da bir işlevden bir değer döndürmek için kullanılan bir anahtar sözcüktür. İşlevleri daha kullanışlı hale getirmek için, bir ifadeyi değerlendirmeye dayalı olarak bir değer döndürmesi gerekir. Herhangi bir return ifadesi belirtilmezse veya return ifadesinin ifadesi bir veri türü olarak değerlendirilmezse, işlev None döndürür. \n",
    "\n",
    "return ifadesi işlevi sonlandırır ve işlevden çıkar."
   ]
  },
  {
   "cell_type": "code",
   "execution_count": 25,
   "metadata": {},
   "outputs": [
    {
     "name": "stdout",
     "output_type": "stream",
     "text": [
      "6\n"
     ]
    }
   ],
   "source": [
    "def multiplier(num1, num2):\n",
    "    return num1 * num2\n",
    "\n",
    "result = multiplier(2,3)\n",
    "print(result) # 6"
   ]
  },
  {
   "cell_type": "markdown",
   "metadata": {},
   "source": [
    "Return ifadesini kullanarak havalı bir şeyler yapma zamanı."
   ]
  },
  {
   "cell_type": "code",
   "execution_count": 27,
   "metadata": {
    "scrolled": true
   },
   "outputs": [],
   "source": [
    "def sum(num1):\n",
    "    def child(num2):\n",
    "        return num1 + num2\n",
    "    return child"
   ]
  },
  {
   "cell_type": "code",
   "execution_count": 28,
   "metadata": {},
   "outputs": [],
   "source": [
    "add_10 = sum(10)"
   ]
  },
  {
   "cell_type": "code",
   "execution_count": 29,
   "metadata": {},
   "outputs": [
    {
     "name": "stdout",
     "output_type": "stream",
     "text": [
      "30\n",
      "60\n",
      "110\n"
     ]
    }
   ],
   "source": [
    "print(add_10(20)) # 30  (Closure!!!)\n",
    "print(add_10(50)) # 60\n",
    "print(add_10(100)) # 110"
   ]
  },
  {
   "cell_type": "markdown",
   "metadata": {},
   "source": [
    "## 4.3 Scope\n",
    "\n",
    "Basitçe anlatmak gerekirse **\"Hangi değişkenlere erişimim var?\"** Anlamına gelir. Bu, yorumlayıcının değişkenlerin kapsamını bulmak için kodu okurken sorduğu türden bir sorudur. Python'da değişkenlerin işlev kapsamı vardır, bu da bir işlev içinde tanımlanan değişkenlere işlevin dışından erişilemeyeceği anlamına gelir."
   ]
  },
  {
   "cell_type": "code",
   "execution_count": 31,
   "metadata": {
    "scrolled": true
   },
   "outputs": [],
   "source": [
    "num = 1\n",
    "def confusing_function():\n",
    "    num = 10\n",
    "    return num"
   ]
  },
  {
   "cell_type": "code",
   "execution_count": 32,
   "metadata": {},
   "outputs": [
    {
     "name": "stdout",
     "output_type": "stream",
     "text": [
      "1\n",
      "10\n"
     ]
    }
   ],
   "source": [
    "print(num) # 1 => Global Scope\n",
    "print(confusing_function()) # 10 => Local Scope"
   ]
  },
  {
   "cell_type": "markdown",
   "metadata": {},
   "source": [
    "**Python yorumlayıcısının izlediği kapsam kuralları şunlardır:**\n",
    "\n",
    "- Yerel ile başlayın. Değişken mevcut mu? Ardından değeri alın. Değilse devam edin\n",
    "- Değişken, ana işlevin yerel kapsamında tanımlanmış mı? Varsa değeri getir, yoksa devam et\n",
    "- Değişken genel kapsamda mevcut mu? Varsa değeri getir, yoksa devam et\n",
    "- Değişken yerleşik bir işlev mi? Değeri getir, yoksa çıkışı"
   ]
  },
  {
   "cell_type": "code",
   "execution_count": null,
   "metadata": {},
   "outputs": [],
   "source": []
  }
 ],
 "metadata": {
  "kernelspec": {
   "display_name": "Python 3",
   "language": "python",
   "name": "python3"
  },
  "language_info": {
   "codemirror_mode": {
    "name": "ipython",
    "version": 3
   },
   "file_extension": ".py",
   "mimetype": "text/x-python",
   "name": "python",
   "nbconvert_exporter": "python",
   "pygments_lexer": "ipython3",
   "version": "3.9.1"
  }
 },
 "nbformat": 4,
 "nbformat_minor": 4
}
