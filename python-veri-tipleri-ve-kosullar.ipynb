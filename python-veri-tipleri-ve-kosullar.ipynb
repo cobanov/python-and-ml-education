{
 "cells": [
  {
   "cell_type": "markdown",
   "metadata": {},
   "source": [
    "# 1. Veri Tipleri"
   ]
  },
  {
   "cell_type": "markdown",
   "metadata": {},
   "source": [
    "Basitçe **Veri Tipleri**, Python'da değerleri temsil etmenin bir yoludur. Aşağıda listenene tipler Python'da en sık kullanılan veri tipleridir.\n",
    "\n",
    "- **int (sayıları temsil eder)**\n",
    "- **float (ondalıklı sayıları temsil eder)**\n",
    "- **str (yazıları temsil eder)**\n",
    "- **bool (bool değerleri temsil eder)**\n",
    "- **list**\n",
    "- **dict**\n",
    "- tuple\n",
    "- set\n",
    "- complex (not used very often)\n",
    "- None (to represent an absence of value)"
   ]
  },
  {
   "cell_type": "markdown",
   "metadata": {},
   "source": [
    "## 1.1 Sayılar (Numbers)"
   ]
  },
  {
   "cell_type": "markdown",
   "metadata": {},
   "source": [
    "Sayısal **3** veri tipi mevcuttur:\n",
    "\n",
    "- int (tam sayıları sınırsız boyutta depolar)\n",
    "- float (kayan noktalı gerçek sayı değerlerini depolar)\n",
    "- complex (kompleks sayıları depolar)"
   ]
  },
  {
   "cell_type": "code",
   "execution_count": null,
   "metadata": {},
   "outputs": [],
   "source": [
    "num = 100 # değişken tanımlamak\n",
    "print(type(num)) # <class 'int'>\n",
    "\n",
    "num2 = 99.99\n",
    "print(type(num2)) # <class 'float>\n",
    "\n",
    "expression1 = num * 10\n",
    "print(type(expression1)) # <class 'int'>\n",
    "\n",
    "expression2 = num + num2\n",
    "print(type(expression2)) # <class 'float'>"
   ]
  },
  {
   "cell_type": "markdown",
   "metadata": {},
   "source": [
    "### Matematiksel Fonksiyonlar"
   ]
  },
  {
   "cell_type": "code",
   "execution_count": null,
   "metadata": {},
   "outputs": [],
   "source": [
    "print(round(2.1)) # 2\n",
    "print(round(5.9)) # 6\n",
    "print(abs(-34)) # 34"
   ]
  },
  {
   "cell_type": "markdown",
   "metadata": {},
   "source": [
    "## 1.2 Değişkenler (Variables)"
   ]
  },
  {
   "cell_type": "markdown",
   "metadata": {},
   "source": [
    "Değişkenler değerleri depolar. Aşağıdakiler, Python'da adlandırma kurallarıdır:\n",
    "\n",
    "- Değişkenler bir harfle (tercihen küçük harfle) veya alt çizgiyle başlamalı ve ardından sayılar veya alt çizgi gelmelidir\n",
    "- Snake case, user_name gibi birden çok kelimeyle değişken yazmanın geleneksel yoludur.\n",
    "- Büyük / küçük harfe duyarlıdırlar\n",
    "- Anahtar kelimeler, anahtar kelimelerin (Python anahtar kelimeleri) üzerine yazılmamalıdır"
   ]
  },
  {
   "cell_type": "markdown",
   "metadata": {},
   "source": [
    "## 1.3 Stringler (Strings)"
   ]
  },
  {
   "cell_type": "code",
   "execution_count": null,
   "metadata": {},
   "outputs": [],
   "source": [
    "name = 'Python' # tek tırnak ile tanımlamak\n",
    "name2 = \"Python\" # çift tırnak ile tanımlamak\n",
    "name3 = '''Bu oldukça uzun bir stringdir.\n",
    "            Bu şekilde birkaç satırda yazabiliriz''' # 3 tırnak işareti ile tanımlamak\n",
    "\n",
    "print(type(name)) # <class 'str'>\n",
    "print(type(name2)) # <class 'str'>\n",
    "print(type(name3)) # <class 'str'>\n"
   ]
  },
  {
   "cell_type": "markdown",
   "metadata": {},
   "source": [
    "### String Birleştirme (String Concatenation)"
   ]
  },
  {
   "cell_type": "code",
   "execution_count": null,
   "metadata": {},
   "outputs": [],
   "source": [
    "first_name = 'Mert'\n",
    "last_name = 'Cobanov'\n",
    "print(first_name + ' ' + last_name) # Mert Cobanov"
   ]
  },
  {
   "cell_type": "markdown",
   "metadata": {},
   "source": [
    "### Veri Tipi Dönüşümleri (Type Conversion)"
   ]
  },
  {
   "cell_type": "code",
   "execution_count": null,
   "metadata": {},
   "outputs": [],
   "source": [
    "user_name = 'Mert'\n",
    "age = 25\n",
    "print(user_name + age)"
   ]
  },
  {
   "cell_type": "code",
   "execution_count": null,
   "metadata": {},
   "outputs": [],
   "source": [
    "user_name = 'Mert'\n",
    "age = 25\n",
    "print(user_name + str(age)) # Mert40\n",
    "print(type(str(age))) # <class 'str'>"
   ]
  },
  {
   "cell_type": "code",
   "execution_count": null,
   "metadata": {},
   "outputs": [],
   "source": [
    "lucky_number = 7\n",
    "lucky_number_stringified = str(7)\n",
    "lucky_number_extracted = int(lucky_number_stringified)\n",
    "print(lucky_number_extracted) # 7"
   ]
  },
  {
   "cell_type": "markdown",
   "metadata": {},
   "source": [
    "### String Biçimlendirme (Formatted String)\n",
    "\n",
    "String biçimlendirme, string içeriğini dinamik olarak güncellememize izin veren bir özelliktir. Bir sunucudan alınan kullanıcı bilgilerimiz olduğunu ve buna dayalı olarak özel bir mesaj görüntülemek istediğimizi varsayalım. İlk fikir, string biçimlendirme uygulamaktır."
   ]
  },
  {
   "cell_type": "code",
   "execution_count": null,
   "metadata": {},
   "outputs": [],
   "source": [
    "first_name = 'Mert'\n",
    "last_name = 'Cobanov'\n",
    "welcome_message = \"Hoşgeldin\" + \" \" + first_name + \" \" + last_name\n",
    "\n",
    "print(welcome_message) # Welcome Mert Cobanov"
   ]
  },
  {
   "cell_type": "code",
   "execution_count": null,
   "metadata": {},
   "outputs": [],
   "source": [
    "first_name = 'Mert'\n",
    "last_name = 'Cobanov'\n",
    "welcome_message = f'Hoşgeldin {first_name} {last_name}'\n",
    "print(welcome_message) # Hoşgeldin Mert Cobanov"
   ]
  },
  {
   "cell_type": "markdown",
   "metadata": {},
   "source": [
    "### String Indeksleri (String Indexes)\n",
    "\n",
    "Python'daki dizeler basitçe sıralı karakter koleksiyonudur. Böylece onunla birçok harika numara yapabiliriz. Bir dizenin karakterlerine erişebilir, bir alt dizeyi seçebilir, bir dizeyi tersine çevirebilir ve çok daha fazlasını yapabiliriz. Aynı zamanda sicim dilimleme olarak da adlandırılır."
   ]
  },
  {
   "cell_type": "code",
   "execution_count": null,
   "metadata": {},
   "outputs": [],
   "source": [
    "language = 'python'\n",
    "first_character = language[0] # indexing starts from 0\n",
    "second_character = language[1]\n",
    "print(first_character) # p\n",
    "print(second_character) # y"
   ]
  },
  {
   "cell_type": "code",
   "execution_count": null,
   "metadata": {},
   "outputs": [],
   "source": [
    "# Strings can be manipulated easily with this syntax [start:stop:step-over]\n",
    "\n",
    "range_1 = language[0:2] # here it starts from index 0 and ends at index 1\n",
    "range_2 = language[0::1] # starts at 0, stops at end with step over 1 \n",
    "range_3 = language[::2] # starts at 0, till end with step 2\n",
    "range_4 = language[1:] # starts at index 1 till end of string\n",
    "range_5 = language[-1] # selects last character\n",
    "range_6 = language[-2] # second last character\n",
    "reverse_string = language[::-1] # starts from end and reverses the string\n",
    "reverse_string_2 = language[::-2] # reverses string and skips 1 character\n",
    "\n",
    "print(range_1) # py\n",
    "print(range_2) # python\n",
    "print(range_3) # pto\n",
    "print(range_4) # ython\n",
    "print(range_5) # n\n",
    "print(range_6) # o\n",
    "print(reverse_string) # nohtyp\n",
    "print(reverse_string_2) # nhy"
   ]
  },
  {
   "cell_type": "markdown",
   "metadata": {},
   "source": [
    "## 1.4 Listeler (Lists)\n",
    "\n",
    "Listeler önemli bir veri türüdür. Organize bir nesne koleksiyonudur. Aynı zamanda, verileri farklı amaçlar için belirli bir biçimde düzenleyen bir kap anlamına gelen bir veri yapısıdır. `[]` İle gösterilirler. Aynı veya farklı veri türlerini birlikte depolamak için kullanılabilirler."
   ]
  },
  {
   "cell_type": "code",
   "execution_count": 1,
   "metadata": {},
   "outputs": [
    {
     "name": "stdout",
     "output_type": "stream",
     "text": [
      "kalem\n"
     ]
    }
   ],
   "source": [
    "favorite_languages = ['javascript', 'python', 'typescript']\n",
    "shopping_cart_items = ['kalem','diş fırçası', 'kolonya', 'silgi']\n",
    "random_things = ['futbol', 123, True, 'yazılımcı', 777]\n",
    "\n",
    "first_item = shopping_cart_items[0]\n",
    "print(first_item) # 'kalem'"
   ]
  },
  {
   "cell_type": "markdown",
   "metadata": {},
   "source": [
    "### Listelerin Dilimlenmesi (List Slicing)\n",
    "\n",
    "Stringlere benzer şekilde, listeler de dilimlenebilir. Bununla birlikte, stringlerden farklı olarak listeler değiştirilebilir, bu da verilerinin değiştirilebileceği anlamına gelir."
   ]
  },
  {
   "cell_type": "code",
   "execution_count": 3,
   "metadata": {
    "scrolled": true
   },
   "outputs": [
    {
     "name": "stdout",
     "output_type": "stream",
     "text": [
      "['suarez', 'messi', 'ibrahimovic', 'zidane', 'beckham']\n"
     ]
    }
   ],
   "source": [
    "soccer_stars = ['ronaldo', 'messi','ibrahimovic','zidane','beckham']\n",
    "soccer_stars[0] = 'suarez'\n",
    "print(soccer_stars) # ['suarez', 'messi','ibrahimovic','zidane','beckham']"
   ]
  },
  {
   "cell_type": "code",
   "execution_count": 4,
   "metadata": {},
   "outputs": [
    {
     "name": "stdout",
     "output_type": "stream",
     "text": [
      "['suarez', 'messi', 'ibrahimovic']\n",
      "['suarez', 'messi', 'ibrahimovic', 'zidane', 'beckham']\n"
     ]
    }
   ],
   "source": [
    "range = soccer_stars[0:3]\n",
    "print(range) # ['suarez', 'messi', 'ibrahimovic']\n",
    "print(soccer_stars) # ['suarez', 'messi','ibrahimovic','zidane','beckham']"
   ]
  },
  {
   "cell_type": "code",
   "execution_count": 5,
   "metadata": {},
   "outputs": [
    {
     "name": "stdout",
     "output_type": "stream",
     "text": [
      "['suarez', 'messi', 'ibrahimovic', 'zidane', 'beckham']\n"
     ]
    }
   ],
   "source": [
    "clone = soccer_stars[:] # listeyi kopyalar.\n",
    "print(clone) # ['suarez', 'messi','ibrahimovic','zidane','beckham']"
   ]
  },
  {
   "cell_type": "code",
   "execution_count": 6,
   "metadata": {},
   "outputs": [
    {
     "name": "stdout",
     "output_type": "stream",
     "text": [
      "['beckham', 'zidane', 'ibrahimovic', 'messi', 'suarez']\n"
     ]
    }
   ],
   "source": [
    "reverse_order = soccer_stars[::-1] # listenin sırasını tersine çevirir\n",
    "print(reverse_order) # ['beckham', 'zidane', 'ibrahimovic', 'messi', 'suarez']"
   ]
  },
  {
   "cell_type": "markdown",
   "metadata": {},
   "source": [
    "### Listelere eleman eklenmesi (append, insert, extend)"
   ]
  },
  {
   "cell_type": "code",
   "execution_count": 9,
   "metadata": {
    "scrolled": true
   },
   "outputs": [
    {
     "name": "stdout",
     "output_type": "stream",
     "text": [
      "[44, 48, 55, 89, 34, 100]\n"
     ]
    }
   ],
   "source": [
    "# Append\n",
    "\n",
    "scores = [44,48,55,89,34]\n",
    "scores.append(100) # elemanları listenin sonuna ekler\n",
    "print(scores) # [44, 48, 55, 89, 34, 100]"
   ]
  },
  {
   "cell_type": "code",
   "execution_count": 10,
   "metadata": {},
   "outputs": [
    {
     "name": "stdout",
     "output_type": "stream",
     "text": [
      "[34, 44, 44, 48, 55, 89, 34, 100]\n"
     ]
    }
   ],
   "source": [
    "# Insert\n",
    "\n",
    "scores.insert(0, 34) # Inserts 34 to index 0\n",
    "scores.insert(2, 44) # Inserts 44 to index 2\n",
    "print(scores) # [34, 44, 44, 48, 55, 89, 34, 100]"
   ]
  },
  {
   "cell_type": "code",
   "execution_count": 13,
   "metadata": {},
   "outputs": [
    {
     "name": "stdout",
     "output_type": "stream",
     "text": [
      "[34, 44, 44, 48, 55, 89, 34, 100, 23, 23, 23]\n"
     ]
    }
   ],
   "source": [
    "# Extend\n",
    "\n",
    "scores.extend([23]) # Başka bir listeyi listenin sonuna ekler\n",
    "print(scores) # [34, 44, 44, 48, 55, 89, 34, 100, 23]"
   ]
  },
  {
   "cell_type": "code",
   "execution_count": 14,
   "metadata": {},
   "outputs": [
    {
     "name": "stdout",
     "output_type": "stream",
     "text": [
      "[34, 44, 44, 48, 55, 89, 34, 100, 23, 23, 23, 12, 10]\n"
     ]
    }
   ],
   "source": [
    "scores.extend([12,10])\n",
    "print(scores) # [34, 44, 44, 48, 55, 89, 34, 100, 23, 12, 10]"
   ]
  },
  {
   "cell_type": "markdown",
   "metadata": {},
   "source": [
    "### Listelerden eleman çıkartılması (pop, remove, clear)"
   ]
  },
  {
   "cell_type": "code",
   "execution_count": 15,
   "metadata": {},
   "outputs": [
    {
     "name": "stdout",
     "output_type": "stream",
     "text": [
      "['C', 'C#']\n"
     ]
    }
   ],
   "source": [
    "# Pop\n",
    "\n",
    "languages = ['C', 'C#', 'C++']\n",
    "languages.pop()\n",
    "print(languages) # ['C', 'C#']"
   ]
  },
  {
   "cell_type": "code",
   "execution_count": 16,
   "metadata": {},
   "outputs": [
    {
     "name": "stdout",
     "output_type": "stream",
     "text": [
      "['C#']\n"
     ]
    }
   ],
   "source": [
    "# Remove\n",
    "\n",
    "languages.remove('C')\n",
    "print(languages) # ['C#']"
   ]
  },
  {
   "cell_type": "code",
   "execution_count": 17,
   "metadata": {},
   "outputs": [
    {
     "name": "stdout",
     "output_type": "stream",
     "text": [
      "[]\n"
     ]
    }
   ],
   "source": [
    "# Clear\n",
    "\n",
    "languages.clear()\n",
    "print(languages) # []"
   ]
  },
  {
   "cell_type": "markdown",
   "metadata": {},
   "source": [
    "### İndeksleri almak ve sayma (index, count)"
   ]
  },
  {
   "cell_type": "code",
   "execution_count": 20,
   "metadata": {
    "scrolled": true
   },
   "outputs": [],
   "source": [
    "alphabets = ['a', 'b', 'c']"
   ]
  },
  {
   "cell_type": "code",
   "execution_count": 21,
   "metadata": {},
   "outputs": [
    {
     "name": "stdout",
     "output_type": "stream",
     "text": [
      "0\n"
     ]
    }
   ],
   "source": [
    "print(alphabets.index('a')) # 0 (Aranan değerin liste içerisindeki indeksini getirir)"
   ]
  },
  {
   "cell_type": "code",
   "execution_count": 22,
   "metadata": {},
   "outputs": [
    {
     "name": "stdout",
     "output_type": "stream",
     "text": [
      "1\n"
     ]
    }
   ],
   "source": [
    "print(alphabets.count('b')) # 1 (Aranan değerin liste içerisinde kaç kez geçtiğini getirir)"
   ]
  },
  {
   "cell_type": "markdown",
   "metadata": {},
   "source": [
    "### Sıralama, Tersleme ve Kopyalama (Sorting, reversing and copying)\n"
   ]
  },
  {
   "cell_type": "code",
   "execution_count": 24,
   "metadata": {
    "scrolled": true
   },
   "outputs": [
    {
     "name": "stdout",
     "output_type": "stream",
     "text": [
      "[1, 2, 3, 4, 5, 6]\n"
     ]
    }
   ],
   "source": [
    "# Sort\n",
    "\n",
    "numbers = [1,4,6,3,2,5]\n",
    "numbers.sort() # Sorts the list items in place and returns nothing\n",
    "print(numbers) # [1, 2, 3, 4, 5, 6]"
   ]
  },
  {
   "cell_type": "code",
   "execution_count": 25,
   "metadata": {},
   "outputs": [
    {
     "name": "stdout",
     "output_type": "stream",
     "text": [
      "[1, 2, 3, 4, 5, 6]\n"
     ]
    }
   ],
   "source": [
    "# Sorted\n",
    "# Yeni bir liste olarak alabilirsiniz\n",
    "\n",
    "sorted_numbers = sorted(numbers) # note - this is not a method\n",
    "print(sorted_numbers) # [1, 2, 3, 4, 5, 6]"
   ]
  },
  {
   "cell_type": "code",
   "execution_count": 26,
   "metadata": {},
   "outputs": [
    {
     "name": "stdout",
     "output_type": "stream",
     "text": [
      "[6, 5, 4, 3, 2, 1]\n"
     ]
    }
   ],
   "source": [
    "# Reverse\n",
    "\n",
    "numbers.reverse() # Listeyi tersine çevirir\n",
    "print(numbers) # [6, 5, 4, 3, 2, 1]"
   ]
  },
  {
   "cell_type": "code",
   "execution_count": 27,
   "metadata": {},
   "outputs": [
    {
     "name": "stdout",
     "output_type": "stream",
     "text": [
      "[6, 5, 4, 3, 2, 1]\n"
     ]
    }
   ],
   "source": [
    "# Copy\n",
    "\n",
    "numbers_clone = numbers.copy() # numbers[:] ile aynı şekilde kopyalar\n",
    "print(numbers_clone) # [6, 5, 4, 3, 2, 1]"
   ]
  },
  {
   "cell_type": "markdown",
   "metadata": {},
   "source": [
    "## 1.5 Sözlükler (Dictionaries)"
   ]
  },
  {
   "cell_type": "code",
   "execution_count": 32,
   "metadata": {
    "scrolled": true
   },
   "outputs": [],
   "source": [
    "user = {'name': 'Mert', 'age': 25, 'married': False}"
   ]
  },
  {
   "cell_type": "code",
   "execution_count": 33,
   "metadata": {},
   "outputs": [
    {
     "name": "stdout",
     "output_type": "stream",
     "text": [
      "Mert\n",
      "False\n"
     ]
    }
   ],
   "source": [
    "print(user['name']) # Mert\n",
    "print(user['married']) # False"
   ]
  },
  {
   "cell_type": "markdown",
   "metadata": {},
   "source": [
    "### Sözlük Anahtarları (Dictionary Keys)\n",
    "\n",
    "Bir sözlükteki anahtarların dize veri türünde olması gerektiğinden bahsetmiştim. Bu tamamen doğru değil. dikt anahtarları herhangi bir değişmez veri türünde olabilir. Ayrıca, anahtarların benzersiz olması gerekir. Bir sözlüğün birden fazla özdeş anahtarı varsa, değerler geçersiz kılınır. Bu aynı zamanda çarpışma olarak da adlandırılır."
   ]
  },
  {
   "cell_type": "code",
   "execution_count": null,
   "metadata": {},
   "outputs": [],
   "source": [
    "abstract = {\n",
    " 'first': 123,\n",
    " True: 'hello',\n",
    " 777: [1,3,4,5]\n",
    "}"
   ]
  },
  {
   "cell_type": "code",
   "execution_count": null,
   "metadata": {},
   "outputs": [],
   "source": [
    "print(abstract['first']) # 123\n",
    "print(abstract[True]) # 'hello\n",
    "print(abstract[777]) # [1,3,4,5]"
   ]
  },
  {
   "cell_type": "code",
   "execution_count": 34,
   "metadata": {},
   "outputs": [],
   "source": [
    "sample = {\n",
    "    'username': 'Ahmet',\n",
    "    'username': 'Mert'\n",
    "}"
   ]
  },
  {
   "cell_type": "code",
   "execution_count": 35,
   "metadata": {},
   "outputs": [
    {
     "name": "stdout",
     "output_type": "stream",
     "text": [
      "Mert\n"
     ]
    }
   ],
   "source": [
    "print(sample['username']) # james"
   ]
  },
  {
   "cell_type": "markdown",
   "metadata": {},
   "source": [
    "### Sözlük Metodları (Dictionary Methods)"
   ]
  },
  {
   "cell_type": "code",
   "execution_count": 36,
   "metadata": {
    "scrolled": true
   },
   "outputs": [],
   "source": [
    "user = {'name': 'Mert', 'age': 25, 'country': 'Turkey'}"
   ]
  },
  {
   "cell_type": "code",
   "execution_count": 40,
   "metadata": {},
   "outputs": [
    {
     "name": "stdout",
     "output_type": "stream",
     "text": [
      "True\n",
      "False\n",
      "True\n"
     ]
    }
   ],
   "source": [
    "print('name' in user.keys()) # True\n",
    "print('gender' in user.keys()) # False\n",
    "\n",
    "print('Mert' in user.values()) # True"
   ]
  },
  {
   "cell_type": "markdown",
   "metadata": {},
   "source": [
    "## 1.6 Boolean\n",
    "\n",
    "Booleanlar python'da bool olarak temsil edilir ve True veya False depolar."
   ]
  },
  {
   "cell_type": "code",
   "execution_count": 41,
   "metadata": {
    "scrolled": true
   },
   "outputs": [],
   "source": [
    "iyi_mi = True\n",
    "kirli_mi = False"
   ]
  },
  {
   "cell_type": "code",
   "execution_count": 42,
   "metadata": {},
   "outputs": [
    {
     "name": "stdout",
     "output_type": "stream",
     "text": [
      "True\n"
     ]
    }
   ],
   "source": [
    "print(10 > 9) # True "
   ]
  },
  {
   "cell_type": "markdown",
   "metadata": {},
   "source": [
    "# 2. Koşullar"
   ]
  },
  {
   "cell_type": "markdown",
   "metadata": {},
   "source": [
    "## 2.1 Operatörler\n",
    "\n",
    "Python'da ve dışında mantıksal operatörler çok azdır, örneğin \n",
    "`not, >, <, ==, >=, <=, !=`"
   ]
  },
  {
   "cell_type": "code",
   "execution_count": null,
   "metadata": {},
   "outputs": [],
   "source": [
    "print(10 > 100) # False\n",
    "print(10 < 100) # True\n",
    "print(10 == 10) # True\n",
    "print(10 != 50) # True\n",
    "print(2 > 1 and 2 > 0) # True\n",
    "print(not(True)) # False\n",
    "print(not False) # True"
   ]
  },
  {
   "cell_type": "markdown",
   "metadata": {},
   "source": [
    "## 2.2 Koşul Durumlar\n",
    "\n",
    "Yukarıdakiler, Python'daki if-else koşullu ifadesinin bir örneğidir. Bazı koşullara göre mantık yürütmek için kullanılır. Koşul yerine getirilmezse, else bloğundaki kod çalıştırılır. JavaScript evreninden geldiğimde, fark ettiğim fark, if-else bloklarını çevreleyen küme parantezlerinin olmaması ve koşullu ifadeden sonra a: yerine kullanılmasıdır. Koşullu bir ifadenin içindeki blok da girintilidir. Bu iki şeyi Python zihinsel modelime bağladım."
   ]
  },
  {
   "cell_type": "code",
   "execution_count": null,
   "metadata": {},
   "outputs": [],
   "source": [
    "age = input('Yaşınızı girin: ')\n",
    "\n",
    "if (int(age) >= 18):\n",
    "    print('Kulübe girebilirsiniz.')\n",
    "\n",
    "else:\n",
    "    print('Özür dileriz, kulübe giremezsiniz!')"
   ]
  },
  {
   "cell_type": "code",
   "execution_count": null,
   "metadata": {},
   "outputs": [],
   "source": [
    "exam_score = input('Sınav notunuzu girin: ')\n",
    "\n",
    "if(int(exam_score) > 90):\n",
    "    print('Aldığınız not A+, tebrikler!')\n",
    "\n",
    "elif(int(exam_score) > 80):\n",
    "    print('Aldığınız not A')\n",
    "\n",
    "else:\n",
    "    print('Aldığınız not B')"
   ]
  },
  {
   "cell_type": "code",
   "execution_count": null,
   "metadata": {},
   "outputs": [],
   "source": [
    "is_adult = True\n",
    "is_licensed = True\n",
    "\n",
    "if(is_adult and is_licensed):\n",
    "    print('Araba kullanmaya izniniz var!')\n",
    "\n",
    "else:\n",
    "    print('Araba kullanmaya izniniz yok!')"
   ]
  }
 ],
 "metadata": {
  "kernelspec": {
   "display_name": "Python 3",
   "language": "python",
   "name": "python3"
  },
  "language_info": {
   "codemirror_mode": {
    "name": "ipython",
    "version": 3
   },
   "file_extension": ".py",
   "mimetype": "text/x-python",
   "name": "python",
   "nbconvert_exporter": "python",
   "pygments_lexer": "ipython3",
   "version": "3.9.1"
  }
 },
 "nbformat": 4,
 "nbformat_minor": 4
}
