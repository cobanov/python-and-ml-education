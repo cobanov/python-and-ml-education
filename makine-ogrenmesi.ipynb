{
 "cells": [
  {
   "cell_type": "markdown",
   "metadata": {},
   "source": [
    "# Makine Öğrenmesi"
   ]
  },
  {
   "cell_type": "markdown",
   "metadata": {},
   "source": [
    "## 8.1 Makine Öğrenmesi Nedir?"
   ]
  },
  {
   "cell_type": "markdown",
   "metadata": {},
   "source": [
    "Makine Öğrenimi, bilgisayarların algoritmalar oluşturabildikleri ve sonunda kendilerine sağlanan verileri analiz ederek sorunları çözme becerilerini geliştirdikleri bilgisayar bilimi alanıdır. Bu, bilgisayarların insan müdahalesi olmadan görevleri yerine getirmesini sağlayan bir Yapay Zeka alt kümesi veya bölümüdür.\n",
    "\n",
    "> Makine öğrenimi (ML), deneyim yoluyla otomatik olarak gelişen bilgisayar algoritmaları üzerine yapılan çalışmadır. Yapay zekanın bir alt kümesi olarak görülüyor. Makine öğrenimi algoritmaları, açıkça programlanmadan tahminler veya kararlar almak için \"eğitim verileri\" olarak bilinen örnek verilere dayalı bir matematiksel model oluşturur. - Wikipedia"
   ]
  },
  {
   "cell_type": "markdown",
   "metadata": {},
   "source": [
    "## 8.2 Neden Makine Öğrenmesi?\n",
    "\n",
    "Phil Knight'ın ünlü bir sözü var - Nike'ın kurucusu\n",
    "\n",
    "> \"İnsanlara işleri nasıl yapacaklarını söylemeyin, onlara ne yapacaklarını söyleyin ve sonuçlarıyla sizi şaşırtmalarına izin verin.\"\n",
    "\n",
    "Bu alıntı, makine öğrenimini kullanmanın nedenlerini incelerken aklıma geldi.\n",
    "\n",
    "Yukarıdaki alıntıda 'insanlar'ı' bilgisayarlar 'ile değiştirirsek,\n",
    "\n",
    "> \"Bilgisayarlara işleri nasıl yapacaklarını söylemeyin, onlara ne yapacaklarını söyleyin ve sonuçlarıyla sizi şaşırtmalarına izin verin.\"\n",
    "\n",
    "Bence bu, makine öğreniminin neden yararlı ve bu kadar alakalı olduğunu hemen hemen özetliyor."
   ]
  },
  {
   "cell_type": "markdown",
   "metadata": {},
   "source": [
    "## 8.3 Makine Öğrenmesi Tipleri\n"
   ]
  },
  {
   "cell_type": "markdown",
   "metadata": {},
   "source": [
    "Makine Öğrenimi tamamen gelen verilere göre sonuçları tahmin etmekle ilgilidir. Makine Öğrenimi genel olarak aşağıdaki türler halinde sınıflandırılabilir:\n",
    "\n",
    "### Gözetimli (Supervised):\n",
    "Burada giriş veri seti bir nevi kategorize edilmiştir.\n",
    "\n",
    "- **Sınıflandırılmış (Classified)**: Sağlanan giriş verilerinde, makinenin bunları sınıflandırmalarına göre ayırmasına yardımcı olacak bir tür etiket vardır. Elma ve portakallardan oluşan böyle bir veri seti, elmaları ve portakalları segmentlere ayıracaktır.\n",
    "    \n",
    "- **Regresyon (Regression):** Hisse senedi fiyatlarının belirlenmesi gibi sonuçlar elde etmek için tekrar tekrar görev yapmak\n",
    "\n",
    "\n",
    "### Gözetimsiz (Unsupervised):\n",
    "Giriş verileri herhangi bir etiketle sınıflandırılmadığında, denetimsiz algoritmalar kullanılır\n",
    "\n",
    "- **Kümeleme (Clustering):** Verileri kümeleme veya gruplama\n",
    "- **İlişkilendirme Kural Öğrenimi (Association Rule Learning)**\n",
    "    \n",
    "    \n",
    "### Pekiştirmeli (Reinforcement):\n",
    "Genellikle Beceri edinme veya gerçek zamanlı öğrenme olarak da adlandırılır. Bunda, makine en iyi sonuç olasılıklarını belirlemek için deneme yanılma kullanır. Örneğin, bir bilgisayar en yüksek puanı almayı öğrenmek için kendisine milyon kez bir oyun oynamayı öğretebilir. "
   ]
  },
  {
   "cell_type": "markdown",
   "metadata": {},
   "source": [
    "## 8.4 Makine Öğrenmesinin Basit Adımları\n",
    "\n",
    "Genel olarak Makine Öğrenimi şu ana adımları içerir:\n",
    "\n",
    "- Bazı kaynaklardan verileri içe aktarma\n",
    "- Gerekirse ilgisiz verileri kaldırmak için verileri temizleme\n",
    "- Verilerin Eğitim Seti ve Test Setine bölünmesi.\n",
    "- Bir model veya bir algoritma veya bir işlev oluşturmak\n",
    "- Çıkışın kontrol edilmesi\n",
    "- Yukarıdaki adımları iyileştirin ve tekrarlayın"
   ]
  },
  {
   "cell_type": "markdown",
   "metadata": {},
   "source": [
    "## 8.4 Makine Öğrenmesi için Python\n",
    "\n",
    "Makine Öğrenimi veya aslında yapay zeka dilden bağımsızdır. Bununla birlikte Python, geniş topluluğu ve herkesin bu alanın olanaklarını keşfetmeye başlaması için sunulan topluluk tarafından oluşturulmuş araçların bolluğu nedeniyle Makine Öğrenimi uzmanları, veri bilimcileri ve büyük şirketler tarafından kullanılan popüler dillerden biridir.\n",
    "\n",
    "**Python temelde:**\n",
    "\n",
    "- Zengin bir kütüphane ekosistemi\n",
    "- Düşük bir giriş engeli - Önceden programlama deneyimi olmayan biri için anlaşılması kolay\n",
    "- Çok esnektir\n",
    "- Platformdan bağımsız mı\n",
    "- Okuması kolay\n",
    "- Büyük Topluluk"
   ]
  },
  {
   "cell_type": "markdown",
   "metadata": {},
   "source": [
    "## 8.5 Makine Öğrenmesi Araçları\n",
    "\n",
    "Makine Öğrenimi ve Veri Biliminin temellerini incelemek için keşfedeceğim araçlar şunlardır:\n",
    "\n",
    "- Jupyter Not Defterleri - Anaconda araç setinin bir parçası olarak gelir\n",
    "- Numpy Python ile bilimsel hesaplama için bir paket\n",
    "- Pandalar - Python ile veri analizi için bir kitaplık\n",
    "- Mathplotlib - Python ile görselleştirmeler oluşturmak için kütüphane\n",
    "- Scikit-learn - Python ile makine öğrenmesi modelleri kullanmak için kütüphane\n",
    "\n",
    "Birkaç başka araç da var, ancak mücadelenin son birkaç gününde çoğunlukla bunların temellerini gözden geçirirdim. Gelecekte Makine Öğrenimi hakkında daha fazlasını keşfederken Tensorflow gibi diğer araçları da keşfedeceğim."
   ]
  },
  {
   "cell_type": "markdown",
   "metadata": {},
   "source": [
    "## 8.6 Makine Öğrenmesi Metodları"
   ]
  },
  {
   "cell_type": "markdown",
   "metadata": {},
   "source": [
    "## Regresyon Nedir?\n",
    "\n",
    "Regresyon analizi, istatistik ve makine öğrenmesindeki en önemli alanlardan biridir. Mevcut birçok regresyon yöntemi vardır. Doğrusal regresyon bunlardan biridir.\n",
    "\n",
    "Regresyon, değişkenler arasındaki ilişkileri arar. Örneğin, bir şirketin birkaç çalışanını gözlemleyebilir ve maaşlarının deneyim, eğitim düzeyi, rol, çalıştıkları şehir gibi özelliklere nasıl bağlı olduğunu anlamaya çalışabilirsiniz."
   ]
  },
  {
   "cell_type": "markdown",
   "metadata": {},
   "source": [
    "### Lineer Regresyon\n",
    "\n",
    "Doğrusal regresyon, muhtemelen en önemli ve yaygın olarak kullanılan regresyon tekniklerinden biridir. En basit regresyon yöntemleri arasındadır. Başlıca avantajlarından biri, sonuçları yorumlama kolaylığıdır.\n",
    "\n",
    "Bağımsız değişkenler kümesi 𝐱 = (𝑥₁,…, 𝑥ᵣ) üzerinde bazı bağımlı değişkenlerin doğrusal regresyonunu uygularken, burada 𝑟 yordayıcı sayısıdır, 𝑦 ve 𝐱 arasında doğrusal bir ilişki varsayarsınız: 𝑦 = 𝛽₀ + 𝛽₁𝑥₁ + ⋯ + 𝛽ᵣ𝑥ᵣ + 𝜀. Bu denklem, regresyon denklemidir. 𝛽₀, 𝛽₁,…, 𝛽ᵣ regresyon katsayılarıdır ve 𝜀 rastgele hatadır."
   ]
  },
  {
   "cell_type": "markdown",
   "metadata": {},
   "source": [
    "### Basit Lineer Regresyon"
   ]
  },
  {
   "cell_type": "markdown",
   "metadata": {},
   "source": [
    "Simple or single-variate linear regression is the simplest case of linear regression with a single independent variable, 𝐱 = 𝑥.\n",
    "\n",
    "![](assets/linear-regression.png)\n",
    "\n",
    "The estimated regression function (red line) has the equation 𝑓(𝑥) = 𝑏₀ + 𝑏₁𝑥. Your goal is to calculate the optimal values of the predicted weights 𝑏₀ and 𝑏₁ that minimize the sum of squared residuals (SSR) and determine the estimated regression function."
   ]
  },
  {
   "cell_type": "markdown",
   "metadata": {},
   "source": [
    "## İçeri Aktarma"
   ]
  },
  {
   "cell_type": "code",
   "execution_count": 14,
   "metadata": {},
   "outputs": [],
   "source": [
    "import numpy as np\n",
    "import matplotlib.pyplot as plt\n",
    "\n",
    "from sklearn.linear_model import LinearRegression"
   ]
  },
  {
   "cell_type": "code",
   "execution_count": 15,
   "metadata": {},
   "outputs": [],
   "source": [
    "from sklearn.datasets import make_regression\n",
    "X, y = make_regression(n_samples=100, n_features=1, noise=5)"
   ]
  },
  {
   "cell_type": "code",
   "execution_count": 16,
   "metadata": {},
   "outputs": [
    {
     "data": {
      "text/plain": [
       "<matplotlib.collections.PathCollection at 0x14776baf0>"
      ]
     },
     "execution_count": 16,
     "metadata": {},
     "output_type": "execute_result"
    },
    {
     "data": {
      "image/png": "[encoded data removed]",
      "text/plain": [
       "<Figure size 432x288 with 1 Axes>"
      ]
     },
     "metadata": {
      "needs_background": "light"
     },
     "output_type": "display_data"
    }
   ],
   "source": [
    "plt.scatter(X, y)"
   ]
  },
  {
   "cell_type": "markdown",
   "metadata": {},
   "source": [
    "## Model yaratma"
   ]
  },
  {
   "cell_type": "code",
   "execution_count": 17,
   "metadata": {},
   "outputs": [],
   "source": [
    "model = LinearRegression()\n"
   ]
  },
  {
   "cell_type": "code",
   "execution_count": 18,
   "metadata": {
    "scrolled": true
   },
   "outputs": [
    {
     "data": {
      "text/plain": [
       "LinearRegression()"
      ]
     },
     "execution_count": 18,
     "metadata": {},
     "output_type": "execute_result"
    }
   ],
   "source": [
    "model.fit(X, y)\n"
   ]
  },
  {
   "cell_type": "markdown",
   "metadata": {},
   "source": [
    "##  Sopnuçları alma"
   ]
  },
  {
   "cell_type": "code",
   "execution_count": 20,
   "metadata": {},
   "outputs": [
    {
     "name": "stdout",
     "output_type": "stream",
     "text": [
      "coefficient of determination: 0.4695132985395599\n"
     ]
    }
   ],
   "source": [
    "r_sq = model.score(X, y)\n",
    "print('coefficient of determination:', r_sq)"
   ]
  },
  {
   "cell_type": "code",
   "execution_count": 21,
   "metadata": {},
   "outputs": [
    {
     "name": "stdout",
     "output_type": "stream",
     "text": [
      "intercept: 0.036574403976687986\n",
      "slope: [5.44409786]\n"
     ]
    }
   ],
   "source": [
    "print('intercept:', model.intercept_)\n",
    "print('slope:', model.coef_)"
   ]
  },
  {
   "cell_type": "markdown",
   "metadata": {},
   "source": [
    "## Tahmin"
   ]
  },
  {
   "cell_type": "code",
   "execution_count": 23,
   "metadata": {},
   "outputs": [
    {
     "name": "stdout",
     "output_type": "stream",
     "text": [
      "predicted response:\n",
      "[ -6.04075636   3.53235644  10.45160252  -0.09021017  -4.24904861\n",
      "   6.78857147  -3.67409333   5.26812273   2.87925319  -6.73552899\n",
      "  -4.48122206   2.85193372  -0.56173181  -5.89797846  -9.29045464\n",
      "  -3.0680622    4.16261616  -5.49995322   4.59573234   3.19506267\n",
      "  -2.11928911   0.15859848  -5.30751136  -9.13637482   8.62791999\n",
      "  -4.58875224   1.3683142    1.86812321  -2.38293407  13.57973339\n",
      "   6.99521027  -1.24872816   2.90896307   7.31750463   1.62433157\n",
      "  -0.42988966  -0.67337219   5.2572538    2.56706244   4.67198462\n",
      "   6.17828913  -5.95278203   2.00791537  -2.12308133   3.93345041\n",
      "  -3.97607202  -0.35139679  11.92656173  -0.77571281  -0.39709873\n",
      "   1.98179736  -3.22589431   7.36470217   3.05655591   8.36517202\n",
      "  11.62565909   2.46117345  -0.86373287  -0.84367388  -2.21583219\n",
      "  -3.75627984  -1.22634449  -7.4892331    0.89780426   0.16139435\n",
      "   0.37764277  -2.03373753   3.67686469  -1.23325381   2.34605179\n",
      "  -5.45255073   6.32311378   4.98539279  -2.07433642  -4.68606266\n",
      "   9.94712389  -3.02175954   0.70317201  -1.07168328   1.17303701\n",
      "   3.25832509   0.40105279   6.63632489   1.64343542  -4.72821558\n",
      "   4.92251889   3.13422226  -2.12879024  -0.23110149  -8.76322977\n",
      "  -1.45365108  -3.97907366  -5.83362248   0.16365856 -11.72481395\n",
      "   1.28242407   2.71667399   5.66318896   4.71893356   1.23832121]\n"
     ]
    }
   ],
   "source": [
    "X_test, _ = make_regression(n_samples=100, n_features=1, noise=20)\n",
    "y_pred = model.predict(X_test)\n",
    "print('predicted response:', y_pred, sep='\\n')"
   ]
  },
  {
   "cell_type": "markdown",
   "metadata": {},
   "source": [
    "## Görselleştirme"
   ]
  },
  {
   "cell_type": "code",
   "execution_count": 25,
   "metadata": {},
   "outputs": [
    {
     "data": {
      "text/plain": [
       "<matplotlib.collections.PathCollection at 0x1478b41c0>"
      ]
     },
     "execution_count": 25,
     "metadata": {},
     "output_type": "execute_result"
    },
    {
     "data": {
      "image/png": "[encoded data removed]",
      "text/plain": [
       "<Figure size 432x288 with 1 Axes>"
      ]
     },
     "metadata": {
      "needs_background": "light"
     },
     "output_type": "display_data"
    }
   ],
   "source": [
    "plt.scatter(X_test, y_pred)"
   ]
  },
  {
   "cell_type": "markdown",
   "metadata": {},
   "source": [
    "## Cost Function\n",
    "\n",
    "It is a function that measures the performance of a Machine Learning model for given data. Cost Function quantifies the error between predicted values and expected values and presents it in the form of a single real number."
   ]
  },
  {
   "cell_type": "code",
   "execution_count": 27,
   "metadata": {},
   "outputs": [],
   "source": [
    "def mse(predictions, targets):\n",
    "    samples_num = len(predictions)\n",
    "    accumulated_error = 0.0\n",
    "    for prediction, target in zip(predictions, targets):\n",
    "        accumulated_error += (prediction - target)**2\n",
    "       \n",
    "    mae_error = (1.0 / (2*samples_num)) * accumulated_error\n",
    "    \n",
    "    return mae_error"
   ]
  },
  {
   "cell_type": "code",
   "execution_count": 28,
   "metadata": {},
   "outputs": [
    {
     "data": {
      "text/plain": [
       "41.33773480758041"
      ]
     },
     "execution_count": 28,
     "metadata": {},
     "output_type": "execute_result"
    }
   ],
   "source": [
    "mse(y_pred, y)"
   ]
  },
  {
   "cell_type": "code",
   "execution_count": 29,
   "metadata": {},
   "outputs": [],
   "source": [
    "from sklearn.metrics import mean_squared_error"
   ]
  },
  {
   "cell_type": "code",
   "execution_count": 31,
   "metadata": {},
   "outputs": [
    {
     "data": {
      "text/plain": [
       "82.67546961516082"
      ]
     },
     "execution_count": 31,
     "metadata": {},
     "output_type": "execute_result"
    }
   ],
   "source": [
    "mean_squared_error(y, y_pred)\n"
   ]
  },
  {
   "cell_type": "markdown",
   "metadata": {},
   "source": [
    "## Lojistik Regresyon\n",
    "\n",
    "Logistic regression is a fundamental classification technique. It belongs to the group of linear classifiers and is somewhat similar to polynomial and linear regression. Logistic regression is fast and relatively uncomplicated, and it’s convenient for you to interpret the results. Although it’s essentially a method for binary classification, it can also be applied to multiclass problems.\n",
    "\n",
    "You’ll need an understanding of the sigmoid function and the natural logarithm function to understand what logistic regression is and how it works.\n",
    "\n",
    "This image shows the sigmoid function (or S-shaped curve) of some variable 𝑥:\n",
    "\n",
    "![](assets/logistic-regression.jpeg)\n",
    "\n",
    "\n",
    "The sigmoid function has values very close to either 0 or 1 across most of its domain. This fact makes it suitable for application in classification methods."
   ]
  },
  {
   "cell_type": "markdown",
   "metadata": {},
   "source": [
    "## Single-Variate Logistic Regression\n",
    "\n",
    "Single-variate logistic regression is the most straightforward case of logistic regression. There is only one independent variable (or feature), which is 𝐱 = 𝑥. This figure illustrates single-variate logistic regression:\n",
    "\n",
    "![](assets/logistic-regression2.jpg)\n",
    "\n",
    "Here, you have a given set of input-output (or 𝑥-𝑦) pairs, represented by green circles. These are your observations. Remember that 𝑦 can only be 0 or 1. For example, the leftmost green circle has the input 𝑥 = 0 and the actual output 𝑦 = 0. The rightmost observation has 𝑥 = 9 and 𝑦 = 1.\n",
    "\n",
    "Logistic regression finds the weights 𝑏₀ and 𝑏₁ that correspond to the maximum LLF. These weights define the logit 𝑓(𝑥) = 𝑏₀ + 𝑏₁𝑥, which is the dashed black line. They also define the predicted probability 𝑝(𝑥) = 1 / (1 + exp(−𝑓(𝑥))), shown here as the full black line. In this case, the threshold 𝑝(𝑥) = 0.5 and 𝑓(𝑥) = 0 corresponds to the value of 𝑥 slightly higher than 3. This value is the limit between the inputs with the predicted outputs of 0 and 1."
   ]
  },
  {
   "cell_type": "markdown",
   "metadata": {},
   "source": [
    "## Python ile"
   ]
  },
  {
   "cell_type": "code",
   "execution_count": 33,
   "metadata": {},
   "outputs": [],
   "source": [
    "import matplotlib.pyplot as plt\n",
    "import numpy as np\n",
    "from sklearn.linear_model import LogisticRegression"
   ]
  },
  {
   "cell_type": "code",
   "execution_count": 35,
   "metadata": {},
   "outputs": [],
   "source": [
    "x = np.arange(10).reshape(-1, 1)\n",
    "y = np.array([0, 0, 0, 0, 1, 1, 1, 1, 1, 1])"
   ]
  },
  {
   "cell_type": "code",
   "execution_count": 36,
   "metadata": {},
   "outputs": [
    {
     "data": {
      "text/plain": [
       "LogisticRegression()"
      ]
     },
     "execution_count": 36,
     "metadata": {},
     "output_type": "execute_result"
    }
   ],
   "source": [
    "model = LogisticRegression()\n",
    "model.fit(x, y)\n"
   ]
  },
  {
   "cell_type": "code",
   "execution_count": 37,
   "metadata": {},
   "outputs": [
    {
     "name": "stdout",
     "output_type": "stream",
     "text": [
      "Classes:  [0 1]\n",
      "Intercept:  [-4.12617727]\n",
      "Coef:  [[1.18109091]]\n"
     ]
    }
   ],
   "source": [
    "\n",
    "print(\"Classes: \", model.classes_)\n",
    "print(\"Intercept: \",model.intercept_)\n",
    "print(\"Coef: \",model.coef_)"
   ]
  },
  {
   "cell_type": "code",
   "execution_count": 38,
   "metadata": {},
   "outputs": [
    {
     "name": "stdout",
     "output_type": "stream",
     "text": [
      "Probability:  [[0.98411203 0.01588797]\n",
      " [0.95003074 0.04996926]\n",
      " [0.85370936 0.14629064]\n",
      " [0.64173546 0.35826454]\n",
      " [0.35475873 0.64524127]\n",
      " [0.1443924  0.8556076 ]\n",
      " [0.04924876 0.95075124]\n",
      " [0.01565079 0.98434921]\n",
      " [0.00485659 0.99514341]\n",
      " [0.00149573 0.99850427]]\n"
     ]
    }
   ],
   "source": [
    "print(\"Probability: \",model.predict_proba(x))\n"
   ]
  },
  {
   "cell_type": "code",
   "execution_count": 39,
   "metadata": {},
   "outputs": [
    {
     "data": {
      "text/plain": [
       "array([0, 0, 0, 0, 1, 1, 1, 1, 1, 1])"
      ]
     },
     "execution_count": 39,
     "metadata": {},
     "output_type": "execute_result"
    }
   ],
   "source": [
    "model.predict(x)\n"
   ]
  },
  {
   "cell_type": "code",
   "execution_count": 40,
   "metadata": {},
   "outputs": [],
   "source": [
    "from sklearn.metrics import classification_report, confusion_matrix"
   ]
  },
  {
   "cell_type": "code",
   "execution_count": 41,
   "metadata": {},
   "outputs": [
    {
     "data": {
      "text/plain": [
       "array([[4, 0],\n",
       "       [0, 6]])"
      ]
     },
     "execution_count": 41,
     "metadata": {},
     "output_type": "execute_result"
    }
   ],
   "source": [
    "confusion_matrix(y, model.predict(x))\n"
   ]
  },
  {
   "cell_type": "code",
   "execution_count": 42,
   "metadata": {},
   "outputs": [
    {
     "data": {
      "text/plain": [
       "<AxesSubplot:>"
      ]
     },
     "execution_count": 42,
     "metadata": {},
     "output_type": "execute_result"
    },
    {
     "data": {
      "image/png": "[encoded data removed]",
      "text/plain": [
       "<Figure size 432x288 with 2 Axes>"
      ]
     },
     "metadata": {
      "needs_background": "light"
     },
     "output_type": "display_data"
    }
   ],
   "source": [
    "import seaborn as sns\n",
    "\n",
    "cm = confusion_matrix(y, model.predict(x))\n",
    "sns.heatmap(cm, annot=True)"
   ]
  }
 ],
 "metadata": {
  "kernelspec": {
   "display_name": "Python 3",
   "language": "python",
   "name": "python3"
  },
  "language_info": {
   "codemirror_mode": {
    "name": "ipython",
    "version": 3
   },
   "file_extension": ".py",
   "mimetype": "text/x-python",
   "name": "python",
   "nbconvert_exporter": "python",
   "pygments_lexer": "ipython3",
   "version": "3.9.1"
  }
 },
 "nbformat": 4,
 "nbformat_minor": 4
}
