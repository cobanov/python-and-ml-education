{
 "cells": [
  {
   "cell_type": "markdown",
   "metadata": {},
   "source": [
    "# Makine Öğrenmesi Metodları - Karar Ağaçları"
   ]
  },
  {
   "cell_type": "markdown",
   "metadata": {},
   "source": [
    "## 9.4 Karar Ağaçları\n",
    "\n",
    "A decision tree is one of the supervised machine learning algorithms. This algorithm can be used for regression and classification problems — yet, is mostly used for classification problems. As the name goes, it uses a tree-like model of decisions.\n",
    "\n",
    "![](karar-agaclari.jpg)"
   ]
  },
  {
   "cell_type": "code",
   "execution_count": 2,
   "metadata": {},
   "outputs": [
    {
     "ename": "SyntaxError",
     "evalue": "invalid syntax (<ipython-input-2-7d54707e6383>, line 2)",
     "output_type": "error",
     "traceback": [
      "\u001b[0;36m  File \u001b[0;32m\"<ipython-input-2-7d54707e6383>\"\u001b[0;36m, line \u001b[0;32m2\u001b[0m\n\u001b[0;31m    Root Node: This attribute is used for dividing the data into two or more sets. The feature attribute in this node is selected based on Attribute Selection Techniques.\u001b[0m\n\u001b[0m         ^\u001b[0m\n\u001b[0;31mSyntaxError\u001b[0m\u001b[0;31m:\u001b[0m invalid syntax\n"
     ]
    }
   ],
   "source": [
    "## Terminology\n",
    "Root Node: This attribute is used for dividing the data into two or more sets. The feature attribute in this node is selected based on Attribute Selection Techniques.\n",
    "\n",
    "Branch or Sub-Tree: A part of the entire decision tree is called branch or sub-tree.\n",
    "\n",
    "Splitting: Dividing a node into two or more sub-nodes based on if-else conditions.\n",
    "\n",
    "Decision Node: After splitting the sub-nodes into further sub-nodes, then it is called as the decision node.\n",
    "\n",
    "Leaf or Terminal Node: This is the end of the decision tree where it cannot be split into further sub-nodes.\n",
    "\n",
    "Pruning: Removing a sub-node from the tree is called pruning."
   ]
  },
  {
   "cell_type": "code",
   "execution_count": null,
   "metadata": {},
   "outputs": [],
   "source": []
  }
 ],
 "metadata": {
  "kernelspec": {
   "display_name": "Python 3",
   "language": "python",
   "name": "python3"
  },
  "language_info": {
   "codemirror_mode": {
    "name": "ipython",
    "version": 3
   },
   "file_extension": ".py",
   "mimetype": "text/x-python",
   "name": "python",
   "nbconvert_exporter": "python",
   "pygments_lexer": "ipython3",
   "version": "3.9.1"
  }
 },
 "nbformat": 4,
 "nbformat_minor": 4
}
